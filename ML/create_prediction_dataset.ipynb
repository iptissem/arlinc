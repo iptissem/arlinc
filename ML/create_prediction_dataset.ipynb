{
 "cells": [
  {
   "cell_type": "code",
   "execution_count": 1,
   "id": "840b3098-65b1-45a7-b8f4-8a40fa8423ea",
   "metadata": {},
   "outputs": [],
   "source": [
    "import pandas as pd"
   ]
  },
  {
   "cell_type": "code",
   "execution_count": 37,
   "id": "1a059c63-187c-48f5-8cc2-16ec704b9bfd",
   "metadata": {},
   "outputs": [],
   "source": [
    "carts = pd.read_csv('data/Cart.csv')\n",
    "orders = pd.read_csv('data/Order.csv')\n",
    "orders_history = pd.read_csv('data/OrderHistory.csv')\n",
    "entreprises = pd.read_csv('data/Entreprise.csv')"
   ]
  },
  {
   "cell_type": "code",
   "execution_count": 113,
   "id": "69d45cb1-bea9-4c2f-90e2-afa04ca7a57a",
   "metadata": {},
   "outputs": [],
   "source": [
    "def get_entreprise_email(id_entreprise):\n",
    "    entreprise_email = entreprises.loc[entreprises['id'] == id_entreprise]['email']\n",
    "    index = entreprise_email.index[0]\n",
    "    return entreprise_email[index]\n",
    "\n",
    "def get_entreprise_name(id_entreprise):\n",
    "    entreprise_name = entreprises.loc[entreprises['id'] == id_entreprise]['name']\n",
    "    index = entreprise_name.index[0]\n",
    "    return entreprise_name[index]\n",
    "\n",
    "def get_entreprise_city(id_entreprise):\n",
    "    entreprise_city = entreprises.loc[entreprises['id'] == id_entreprise]['city']\n",
    "    index = entreprise_city.index[0]\n",
    "    return entreprise_city[index]\n",
    "\n",
    "def is_order_take(id_order):\n",
    "    return (id_order in orders_history['id_order'])\n",
    "\n",
    "def get_quantities(id_cart):\n",
    "    quantity_reserved = orders.loc[orders['id_cart'] == id_cart]['quantity']\n",
    "    quantity_take = 0\n",
    "    for id_order in quantity_reserved.index:\n",
    "        if is_order_take(id_order): quantity_take += quantity_reserved[id_order]\n",
    "    quantity_reserved = quantity_reserved.sum()\n",
    "    quantity_published = carts.loc[carts['id'] == id_cart]['quantity'] + quantity_reserved\n",
    "    quantity_published = quantity_published.sum()\n",
    "    return {\n",
    "        'quantity_published': quantity_published,\n",
    "        'quantity_reserved': quantity_reserved,\n",
    "        'quantity_take': quantity_take\n",
    "    }"
   ]
  },
  {
   "cell_type": "code",
   "execution_count": 114,
   "id": "c137ba46-7579-4ca0-9f42-c0f18188f32b",
   "metadata": {},
   "outputs": [],
   "source": [
    "dataset = list()\n",
    "for index in carts.index:\n",
    "    publication_date = pd.to_datetime(carts['creation_date'][index])\n",
    "    quantities = get_quantities(carts['id'][index])\n",
    "    row = {\n",
    "        'cart_type': carts['type'][index],\n",
    "        'entreprise_email': get_entreprise_email(carts['id_entreprise'][index]),\n",
    "        'entreprise_name': get_entreprise_name(carts['id_entreprise'][index]),\n",
    "        'entreprise_city': get_entreprise_city(carts['id_entreprise'][index]),\n",
    "        'day_publication': publication_date.dayofweek,\n",
    "        'month_publication': publication_date.month,\n",
    "        'hour_publication': publication_date.hour,\n",
    "        'quantity_published': quantities['quantity_published'],\n",
    "        'quantity_reserved': quantities['quantity_reserved'],\n",
    "        'quantity_take': quantities['quantity_take']\n",
    "    }\n",
    "    dataset.append(row)"
   ]
  },
  {
   "cell_type": "code",
   "execution_count": 117,
   "id": "1e0e95da-480d-4ffc-91c6-45660fdd3600",
   "metadata": {},
   "outputs": [],
   "source": [
    "import csv\n",
    "\n",
    "def write_csv(filename, fieldnames, rows):\n",
    "    file_path = f'data/{filename}'\n",
    "    with open(file_path, mode=\"w\", newline=\"\", encoding=\"utf-8\") as file:\n",
    "        writer = csv.DictWriter(file, fieldnames=fieldnames)\n",
    "        writer.writeheader()\n",
    "        writer.writerows(rows)\n",
    "\n",
    "write_csv(\"Prediction.csv\", dataset[0].keys(), dataset)"
   ]
  },
  {
   "cell_type": "code",
   "execution_count": null,
   "id": "0bb3e665-b9fc-4e18-be54-28d65f311460",
   "metadata": {},
   "outputs": [],
   "source": []
  }
 ],
 "metadata": {
  "kernelspec": {
   "display_name": "Python 3 (ipykernel)",
   "language": "python",
   "name": "python3"
  },
  "language_info": {
   "codemirror_mode": {
    "name": "ipython",
    "version": 3
   },
   "file_extension": ".py",
   "mimetype": "text/x-python",
   "name": "python",
   "nbconvert_exporter": "python",
   "pygments_lexer": "ipython3",
   "version": "3.11.5"
  }
 },
 "nbformat": 4,
 "nbformat_minor": 5
}
